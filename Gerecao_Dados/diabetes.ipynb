{
 "cells": [
  {
   "cell_type": "code",
   "execution_count": 3,
   "id": "f0101912",
   "metadata": {},
   "outputs": [
    {
     "name": "stdout",
     "output_type": "stream",
     "text": [
      "   idade  glicemia_em_jejum  hbA1c   ttgo   imc  atividade_fisica  alcool  \\\n",
      "0     58              110.3    3.3   97.9  26.3                 1       1   \n",
      "1     71              177.1    7.8  192.5  22.1                 1       1   \n",
      "2     48              111.4    6.1  102.7  32.5                 0       0   \n",
      "3     34              122.7    5.7  119.2  26.4                 0       1   \n",
      "4     62              119.1    5.1  118.4  16.1                 1       0   \n",
      "\n",
      "   historico_familiar_diabetes  uso_de_medicamentos_diabetes  \\\n",
      "0                            0                             1   \n",
      "1                            0                             1   \n",
      "2                            1                             0   \n",
      "3                            0                             1   \n",
      "4                            1                             1   \n",
      "\n",
      "   sintomas_classicos_diabetes  tem_diabetes  \n",
      "0                            1             0  \n",
      "1                            1             1  \n",
      "2                            0             0  \n",
      "3                            0             0  \n",
      "4                            0             0  \n"
     ]
    }
   ],
   "source": [
    "# /////////////////////////////////// DIABETES ////////////////////////////////////////\n",
    "\n",
    "import numpy as np\n",
    "import pandas as pd\n",
    "\n",
    "np.random.seed(42)  # Reprodutibilidade\n",
    "\n",
    "n = 500\n",
    "\n",
    "diabetes_data = {\n",
    "    'idade': np.random.randint(20, 80, n),\n",
    "    'glicemia_em_jejum': np.random.normal(100, 20, n).round(1),  # mg/dL\n",
    "    'hbA1c': np.random.normal(5.8, 1.2, n).round(1),  # %\n",
    "    'ttgo': np.random.normal(140, 30, n).round(1),  # mg/dL após 2h\n",
    "    'imc': np.random.normal(27, 5, n).round(1),  # Índice de massa corporal\n",
    "    'atividade_fisica': np.random.randint(0, 2, n),  # 0 = sedentário, 1 = ativo\n",
    "    'alcool': np.random.randint(0, 2, n),  # 0 = não, 1 = sim\n",
    "    'historico_familiar_diabetes': np.random.randint(0, 2, n),\n",
    "    'uso_de_medicamentos_diabetes': np.random.randint(0, 2, n),\n",
    "    'sintomas_classicos_diabetes': np.random.randint(0, 2, n),\n",
    "}\n",
    "\n",
    "# Lógica simples para marcar presença de Diabetes\n",
    "# Ex: Se creatinina > 1.5 ou ureia > 50 e proteinuria = sim\n",
    "# Exemplo para diabetes\n",
    "def determinar_diabetes(row):\n",
    "    score = 0\n",
    "    if row[\"glicemia_em_jejum\"] > 126:\n",
    "        score += 1\n",
    "    if row[\"hbA1c\"] > 6.5:\n",
    "        score += 1\n",
    "    if row[\"ttgo\"] > 200:\n",
    "        score += 1\n",
    "    if row[\"imc\"] > 30:\n",
    "        score += 1\n",
    "    if row[\"historico_familiar_diabetes\"] == 1:\n",
    "        score += 1\n",
    "    if row[\"sintomas_classicos_diabetes\"] == 1:\n",
    "        score += 1\n",
    "\n",
    "    # Diagnóstico se 3 ou mais fatores presentes\n",
    "    if score >= 3:\n",
    "        return 1\n",
    "    return 0\n",
    "\n",
    "\n",
    "df = pd.DataFrame(diabetes_data)\n",
    "df[\"tem_diabetes\"] = df.apply(determinar_diabetes, axis=1)\n",
    "\n",
    "# Visualizar as primeiras linhas\n",
    "print(df.head())\n",
    "\n",
    "# Salvar se quiser\n",
    "df.to_csv(\"../dados/dados_diabetes.csv\", index=False)"
   ]
  }
 ],
 "metadata": {
  "kernelspec": {
   "display_name": "Python 3",
   "language": "python",
   "name": "python3"
  },
  "language_info": {
   "codemirror_mode": {
    "name": "ipython",
    "version": 3
   },
   "file_extension": ".py",
   "mimetype": "text/x-python",
   "name": "python",
   "nbconvert_exporter": "python",
   "pygments_lexer": "ipython3",
   "version": "3.13.5"
  }
 },
 "nbformat": 4,
 "nbformat_minor": 5
}
