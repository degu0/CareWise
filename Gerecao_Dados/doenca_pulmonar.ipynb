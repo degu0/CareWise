{
 "cells": [
  {
   "cell_type": "code",
   "execution_count": 3,
   "id": "aa912afa",
   "metadata": {},
   "outputs": [
    {
     "name": "stdout",
     "output_type": "stream",
     "text": [
      "   idade  fumante  ex_fumante  exposicao_a_poluentes  tosse  falta_de_ar  \\\n",
      "0     78        1           1                      1      1            0   \n",
      "1     68        0           1                      1      0            0   \n",
      "2     54        0           1                      0      0            1   \n",
      "3     82        1           1                      0      1            0   \n",
      "4     47        0           1                      0      0            1   \n",
      "\n",
      "   sibilancia  capacidade_pulmonar  atividade_fisica  tem_dpoc  \n",
      "0           0                 64.3                 0         1  \n",
      "1           0                 50.5                 0         1  \n",
      "2           0                110.8                 0         0  \n",
      "3           1                 63.5                 1         1  \n",
      "4           1                 76.7                 0         1  \n"
     ]
    }
   ],
   "source": [
    "# ////////////////////////////////////////// DOENÇA PULMONAR OBSTRUTIVA CRONICA ///////////////////////////////////\n",
    "\n",
    "import numpy as np\n",
    "import pandas as pd\n",
    "\n",
    "np.random.seed(42)  # Para reprodutibilidade\n",
    "\n",
    "n = 500  # número de registros\n",
    "\n",
    "dpoc_data = {\n",
    "    'idade': np.random.randint(40, 90, n),\n",
    "    'fumante': np.random.randint(0, 2, n),  # 0 = não, 1 = sim\n",
    "    'ex_fumante': np.random.randint(0, 2, n),  # 0 = não, 1 = sim\n",
    "    'exposicao_a_poluentes': np.random.randint(0, 2, n),  # 0 = não, 1 = sim\n",
    "    'tosse': np.random.randint(0, 2, n),  # 0 = não, 1 = sim\n",
    "    'falta_de_ar': np.random.randint(0, 2, n),  # 0 = não, 1 = sim\n",
    "    'sibilancia': np.random.randint(0, 2, n),  # chiado no peito\n",
    "    'capacidade_pulmonar': np.random.normal(80, 15, n).round(1),  # em % do previsto\n",
    "    'atividade_fisica': np.random.randint(0, 2, n),  # 0 = sedentário, 1 = ativo\n",
    "}\n",
    "\n",
    "# Lógica simples para marcar presença de DPOC\n",
    "def determinar_dpoc(row):\n",
    "    score = 0\n",
    "    if row['fumante'] == 1 or row['ex_fumante'] == 1:\n",
    "        score += 1\n",
    "    if row['exposicao_a_poluentes'] == 1:\n",
    "        score += 1\n",
    "    if row['tosse'] == 1:\n",
    "        score += 1\n",
    "    if row['falta_de_ar'] == 1:\n",
    "        score += 1\n",
    "    if row['sibilancia'] == 1:\n",
    "        score += 1\n",
    "    if row['capacidade_pulmonar'] < 70:\n",
    "        score += 1\n",
    "\n",
    "    # Considera DPOC se tiver 3 ou mais fatores de risco\n",
    "    return 1 if score >= 3 else 0\n",
    "\n",
    "# Criar DataFrame e aplicar função\n",
    "df = pd.DataFrame(dpoc_data)\n",
    "df[\"tem_dpoc\"] = df.apply(determinar_dpoc, axis=1)\n",
    "\n",
    "# Visualizar os primeiros dados\n",
    "print(df.head())\n",
    "\n",
    "# Salvar se quiser\n",
    "df.to_csv(\"../dados/dados_dpoc.csv\", index=False)\n"
   ]
  }
 ],
 "metadata": {
  "kernelspec": {
   "display_name": "Python 3",
   "language": "python",
   "name": "python3"
  },
  "language_info": {
   "codemirror_mode": {
    "name": "ipython",
    "version": 3
   },
   "file_extension": ".py",
   "mimetype": "text/x-python",
   "name": "python",
   "nbconvert_exporter": "python",
   "pygments_lexer": "ipython3",
   "version": "3.13.5"
  }
 },
 "nbformat": 4,
 "nbformat_minor": 5
}
