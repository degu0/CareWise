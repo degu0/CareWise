{
 "cells": [
  {
   "cell_type": "code",
   "execution_count": 4,
   "id": "8941df85",
   "metadata": {},
   "outputs": [
    {
     "name": "stdout",
     "output_type": "stream",
     "text": [
      "   idade       sexo  altura_m  peso_kg  atividade_fisica  alimentacao_ruim  \\\n",
      "0     56   feminino      1.72     66.2                 0                 0   \n",
      "1     69  masculino      1.64     89.9                 1                 0   \n",
      "2     46   feminino      1.64     88.4                 0                 1   \n",
      "3     32  masculino      1.62     88.0                 1                 1   \n",
      "4     60  masculino      1.68     75.5                 0                 1   \n",
      "\n",
      "   historico_familiar_obesidade  disturbio_metabolico   imc  tem_obesidade  \n",
      "0                             0                     1  22.4              0  \n",
      "1                             0                     0  33.4              0  \n",
      "2                             1                     1  32.9              1  \n",
      "3                             0                     0  33.5              0  \n",
      "4                             1                     0  26.8              1  \n"
     ]
    }
   ],
   "source": [
    "# ////////////////////////////////////////// OBESIDADE ///////////////////////////////////\n",
    "\n",
    "import numpy as np\n",
    "import pandas as pd\n",
    "\n",
    "np.random.seed(42)  # Para reprodutibilidade\n",
    "\n",
    "n = 500  # número de registros\n",
    "\n",
    "obesidade_data = {\n",
    "    'idade': np.random.randint(18, 80, n),\n",
    "    'sexo': np.random.choice(['masculino', 'feminino'], n),\n",
    "    'altura_m': np.random.normal(1.65, 0.1, n).round(2),  # média de altura em metros\n",
    "    'peso_kg': np.random.normal(80, 20, n).round(1),  # média de peso em kg\n",
    "    'atividade_fisica': np.random.randint(0, 2, n),  # 0 = sedentário, 1 = ativo\n",
    "    'alimentacao_ruim': np.random.randint(0, 2, n),  # 0 = saudável, 1 = ruim\n",
    "    'historico_familiar_obesidade': np.random.randint(0, 2, n),  # 0 = não, 1 = sim\n",
    "    'disturbio_metabolico': np.random.randint(0, 2, n),  # 0 = não, 1 = sim\n",
    "}\n",
    "\n",
    "# Função para calcular IMC\n",
    "def calcular_imc(row):\n",
    "    return round(row['peso_kg'] / (row['altura_m'] ** 2), 1)\n",
    "\n",
    "# Função para determinar obesidade\n",
    "def determinar_obesidade(row):\n",
    "    imc = calcular_imc(row)\n",
    "    score = 0\n",
    "\n",
    "    if imc >= 30:  # Obesidade pela OMS\n",
    "        score += 2\n",
    "    elif imc >= 25:\n",
    "        score += 1  # Sobrepeso\n",
    "\n",
    "    if row['atividade_fisica'] == 0:\n",
    "        score += 1\n",
    "    if row['alimentacao_ruim'] == 1:\n",
    "        score += 1\n",
    "    if row['historico_familiar_obesidade'] == 1:\n",
    "        score += 1\n",
    "    if row['disturbio_metabolico'] == 1:\n",
    "        score += 1\n",
    "\n",
    "    # Considera obesidade se score >= 4 (alta chance)\n",
    "    return 1 if score >= 4 else 0\n",
    "\n",
    "# Criar DataFrame e aplicar funções\n",
    "df = pd.DataFrame(obesidade_data)\n",
    "df[\"imc\"] = df.apply(calcular_imc, axis=1)\n",
    "df[\"tem_obesidade\"] = df.apply(determinar_obesidade, axis=1)\n",
    "\n",
    "# Visualizar os primeiros dados\n",
    "print(df.head())\n",
    "\n",
    "# Salvar se quiser\n",
    "df.to_csv(\"../dados/dados_obesidade.csv\", index=False)\n"
   ]
  }
 ],
 "metadata": {
  "kernelspec": {
   "display_name": "Python 3",
   "language": "python",
   "name": "python3"
  },
  "language_info": {
   "codemirror_mode": {
    "name": "ipython",
    "version": 3
   },
   "file_extension": ".py",
   "mimetype": "text/x-python",
   "name": "python",
   "nbconvert_exporter": "python",
   "pygments_lexer": "ipython3",
   "version": "3.13.5"
  }
 },
 "nbformat": 4,
 "nbformat_minor": 5
}
