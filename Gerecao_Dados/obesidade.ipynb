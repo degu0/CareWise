{
 "cells": [
  {
   "cell_type": "code",
   "execution_count": 8,
   "id": "8941df85",
   "metadata": {},
   "outputs": [
    {
     "ename": "ImportError",
     "evalue": "cannot import name 'calcular_pontuacao_obesidade' from 'calcular_pontucao' (c:\\Users\\deyvi\\carewize\\Gerecao_Dados\\calcular_pontucao.py)",
     "output_type": "error",
     "traceback": [
      "\u001b[31m---------------------------------------------------------------------------\u001b[39m",
      "\u001b[31mImportError\u001b[39m                               Traceback (most recent call last)",
      "\u001b[36mCell\u001b[39m\u001b[36m \u001b[39m\u001b[32mIn[8]\u001b[39m\u001b[32m, line 5\u001b[39m\n\u001b[32m      3\u001b[39m \u001b[38;5;28;01mimport\u001b[39;00m\u001b[38;5;250m \u001b[39m\u001b[34;01mnumpy\u001b[39;00m\u001b[38;5;250m \u001b[39m\u001b[38;5;28;01mas\u001b[39;00m\u001b[38;5;250m \u001b[39m\u001b[34;01mnp\u001b[39;00m\n\u001b[32m      4\u001b[39m \u001b[38;5;28;01mimport\u001b[39;00m\u001b[38;5;250m \u001b[39m\u001b[34;01mpandas\u001b[39;00m\u001b[38;5;250m \u001b[39m\u001b[38;5;28;01mas\u001b[39;00m\u001b[38;5;250m \u001b[39m\u001b[34;01mpd\u001b[39;00m\n\u001b[32m----> \u001b[39m\u001b[32m5\u001b[39m \u001b[38;5;28;01mfrom\u001b[39;00m\u001b[38;5;250m \u001b[39m\u001b[34;01mcalcular_pontucao\u001b[39;00m\u001b[38;5;250m \u001b[39m\u001b[38;5;28;01mimport\u001b[39;00m calcular_pontuacao_obesidade\n\u001b[32m      7\u001b[39m np.random.seed(\u001b[32m42\u001b[39m)  \u001b[38;5;66;03m# Para reprodutibilidade\u001b[39;00m\n\u001b[32m      9\u001b[39m n = \u001b[32m500\u001b[39m  \u001b[38;5;66;03m# número de registros\u001b[39;00m\n",
      "\u001b[31mImportError\u001b[39m: cannot import name 'calcular_pontuacao_obesidade' from 'calcular_pontucao' (c:\\Users\\deyvi\\carewize\\Gerecao_Dados\\calcular_pontucao.py)"
     ]
    }
   ],
   "source": [
    "# ////////////////////////////////////////// OBESIDADE ///////////////////////////////////\n",
    "\n",
    "import numpy as np\n",
    "import pandas as pd\n",
    "from calcular_pontucao import calcular_pontuacao_obesidade\n",
    "\n",
    "np.random.seed(42)  # Para reprodutibilidade\n",
    "\n",
    "n = 500  # número de registros\n",
    "\n",
    "obesidade_data = {\n",
    "    'idade': np.random.randint(18, 80, n),\n",
    "    'sexo': np.random.choice(['masculino', 'feminino'], n),\n",
    "    'altura_m': np.random.normal(1.65, 0.1, n).round(2),  # média de altura em metros\n",
    "    'peso_kg': np.random.normal(80, 20, n).round(1),  # média de peso em kg\n",
    "    'atividade_fisica': np.random.randint(0, 2, n),  # 0 = sedentário, 1 = ativo\n",
    "    'alimentacao_ruim': np.random.randint(0, 2, n),  # 0 = saudável, 1 = ruim\n",
    "    'historico_familiar_obesidade': np.random.randint(0, 2, n),  # 0 = não, 1 = sim\n",
    "    'disturbio_metabolico': np.random.randint(0, 2, n),  # 0 = não, 1 = sim\n",
    "}\n",
    "\n",
    "# Função para calcular IMC\n",
    "def calcular_imc(row):\n",
    "    return round(row['peso_kg'] / (row['altura_m'] ** 2), 1)\n",
    "\n",
    "# Função para determinar obesidade\n",
    "def determinar_obesidade(row):\n",
    "    imc = calcular_imc(row)\n",
    "    score = calcular_pontuacao_obesidade(\n",
    "        imc=imc,\n",
    "        atividade_fisica=row['atividade_fisica'], \n",
    "        alimentacao_ruim=row['alimentacao_ruim'], \n",
    "        historico_familiar_obesidade=row['historico_familiar_obesidade'],  \n",
    "        disturbio_metabolico=row['disturbio_metabolico'],  \n",
    "    )\n",
    "    return 1 if score >= 70 else 0\n",
    "\n",
    "# Criar DataFrame e aplicar funções\n",
    "df = pd.DataFrame(obesidade_data)\n",
    "df[\"imc\"] = df.apply(calcular_imc, axis=1)\n",
    "df[\"tem_obesidade\"] = df.apply(determinar_obesidade, axis=1)\n",
    "\n",
    "# Visualizar os primeiros dados\n",
    "print(df.head())\n",
    "\n",
    "# Salvar se quiser\n",
    "df.to_csv(\"../dados/dados_obesidade.csv\", index=False)\n"
   ]
  }
 ],
 "metadata": {
  "kernelspec": {
   "display_name": "Python 3",
   "language": "python",
   "name": "python3"
  },
  "language_info": {
   "codemirror_mode": {
    "name": "ipython",
    "version": 3
   },
   "file_extension": ".py",
   "mimetype": "text/x-python",
   "name": "python",
   "nbconvert_exporter": "python",
   "pygments_lexer": "ipython3",
   "version": "3.13.5"
  }
 },
 "nbformat": 4,
 "nbformat_minor": 5
}
