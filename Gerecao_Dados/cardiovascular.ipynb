{
 "cells": [
  {
   "cell_type": "code",
   "execution_count": 1,
   "id": "af6ddd14",
   "metadata": {},
   "outputs": [
    {
     "name": "stdout",
     "output_type": "stream",
     "text": [
      "   idade  sexo  fumante  obeso  colesterol_alto  hipertensao  diabetes  \\\n",
      "0     68     1        0      0                0            1         1   \n",
      "1     81     0        0      0                0            1         1   \n",
      "2     58     1        0      1                0            0         0   \n",
      "3     44     0        1      0                0            1         0   \n",
      "4     72     1        0      0                1            1         1   \n",
      "\n",
      "   atividade_fisica  historico_familiar_cardiovascular  pressao_sistolica  \\\n",
      "0                 1                                  1              158.9   \n",
      "1                 1                                  1               91.7   \n",
      "2                 1                                  0              147.0   \n",
      "3                 0                                  0              145.4   \n",
      "4                 1                                  0              141.1   \n",
      "\n",
      "   colesterol_total  tem_doenca_cardiovascular  \n",
      "0             145.4                          1  \n",
      "1             227.4                          1  \n",
      "2             134.8                          0  \n",
      "3             261.0                          1  \n",
      "4             147.1                          1  \n"
     ]
    }
   ],
   "source": [
    "# ////////////////////////////////////////// DOENÇA CARDIOVASCULAR ///////////////////////////////////\n",
    "\n",
    "import numpy as np\n",
    "import pandas as pd\n",
    "\n",
    "np.random.seed(42)  # Para reprodutibilidade\n",
    "\n",
    "n = 100  # número de registros\n",
    "\n",
    "cardio_data = {\n",
    "    'idade': np.random.randint(30, 90, n),\n",
    "    'sexo': np.random.randint(0, 2, n),  # 0 = feminino, 1 = masculino\n",
    "    'fumante': np.random.randint(0, 2, n),\n",
    "    'obeso': np.random.randint(0, 2, n),\n",
    "    'colesterol_alto': np.random.randint(0, 2, n),\n",
    "    'hipertensao': np.random.randint(0, 2, n),\n",
    "    'diabetes': np.random.randint(0, 2, n),\n",
    "    'atividade_fisica': np.random.randint(0, 2, n),\n",
    "    'historico_familiar_cardiovascular': np.random.randint(0, 2, n),\n",
    "    'pressao_sistolica': np.random.normal(130, 20, n).round(1),  # pressão sistólica média\n",
    "    'colesterol_total': np.random.normal(200, 30, n).round(1),  # colesterol total médio\n",
    "}\n",
    "\n",
    "# Lógica simples para marcar presença de doença cardiovascular\n",
    "def determinar_cardio(row):\n",
    "    score = 0\n",
    "    if row['idade'] >= 55:\n",
    "        score += 1\n",
    "    if row['fumante'] == 1:\n",
    "        score += 1\n",
    "    if row['obeso'] == 1:\n",
    "        score += 1\n",
    "    if row['colesterol_alto'] == 1 or row['colesterol_total'] > 240:\n",
    "        score += 1\n",
    "    if row['hipertensao'] == 1 or row['pressao_sistolica'] > 140:\n",
    "        score += 1\n",
    "    if row['diabetes'] == 1:\n",
    "        score += 1\n",
    "    if row['atividade_fisica'] == 0:\n",
    "        score += 1\n",
    "    if row['historico_familiar_cardiovascular'] == 1:\n",
    "        score += 1\n",
    "\n",
    "    # Considera doença cardiovascular se tiver 4 ou mais fatores\n",
    "    return 1 if score >= 4 else 0\n",
    "\n",
    "# Criar DataFrame e aplicar função\n",
    "df = pd.DataFrame(cardio_data)\n",
    "df[\"tem_doenca_cardiovascular\"] = df.apply(determinar_cardio, axis=1)\n",
    "\n",
    "# Visualizar os primeiros dados\n",
    "print(df.head())\n",
    "\n",
    "# Salvar se quiser\n",
    "df.to_csv(\"../dados/dados_cardiovascular.csv\", index=False)\n"
   ]
  }
 ],
 "metadata": {
  "kernelspec": {
   "display_name": "Python 3",
   "language": "python",
   "name": "python3"
  },
  "language_info": {
   "codemirror_mode": {
    "name": "ipython",
    "version": 3
   },
   "file_extension": ".py",
   "mimetype": "text/x-python",
   "name": "python",
   "nbconvert_exporter": "python",
   "pygments_lexer": "ipython3",
   "version": "3.13.5"
  }
 },
 "nbformat": 4,
 "nbformat_minor": 5
}
