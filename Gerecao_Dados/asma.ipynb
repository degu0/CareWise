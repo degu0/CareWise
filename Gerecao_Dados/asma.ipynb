{
 "cells": [
  {
   "cell_type": "code",
   "execution_count": null,
   "id": "520f9957",
   "metadata": {},
   "outputs": [
    {
     "name": "stdout",
     "output_type": "stream",
     "text": [
      "   idade  exposicao_alergenos  fumante_passivo  \\\n",
      "0     56                    0                1   \n",
      "1     19                    0                1   \n",
      "2     65                    1                1   \n",
      "3     25                    1                1   \n",
      "4     28                    0                0   \n",
      "\n",
      "   infeccoes_respiratorias_frequentes  historico_familiar_asma  dispneia  \\\n",
      "0                                   0                        0         0   \n",
      "1                                   0                        1         0   \n",
      "2                                   1                        0         0   \n",
      "3                                   0                        0         0   \n",
      "4                                   0                        1         0   \n",
      "\n",
      "   sibilancia  tosse  obstrucao_vias_respiratorias  tem_asma  \n",
      "0           1      1                             1         1  \n",
      "1           0      0                             1         0  \n",
      "2           1      1                             1         1  \n",
      "3           0      1                             0         0  \n",
      "4           0      1                             0         0  \n"
     ]
    }
   ],
   "source": [
    "#  //////////////////////////////////// ASMA ////////////////////////////////////////////\n",
    "\n",
    "import numpy as np\n",
    "import pandas as pd\n",
    "from calcular_pontucao import calcular_pontuacao_asma\n",
    "\n",
    "np.random.seed(42)  # Reprodutibilidade\n",
    "\n",
    "n = 500\n",
    "\n",
    "asma_data = {\n",
    "    'idade': np.random.randint(5, 70, n),\n",
    "    'exposicao_alergenos': np.random.randint(0, 2, n),  # 0 = não, 1 = sim\n",
    "    'fumante_passivo': np.random.randint(0, 2, n),  # 0 = não, 1 = sim\n",
    "    'infeccoes_respiratorias_frequentes': np.random.randint(0, 2, n),\n",
    "    'historico_familiar_asma': np.random.randint(0, 2, n),\n",
    "    'dispneia': np.random.randint(0, 2, n),  # Falta de ar\n",
    "    'sibilancia': np.random.randint(0, 2, n),  # Chiado no peito\n",
    "    'tosse': np.random.randint(0, 2, n),\n",
    "    'obstrucao_vias_respiratorias': np.random.randint(0, 2, n),\n",
    "}\n",
    "\n",
    "# Lógica para determinar se tem Asma\n",
    "def determinar_asma(row):\n",
    "    score = calcular_pontuacao_asma(\n",
    "        idade=row['idade'] ,\n",
    "        exposicao_alergenos=row['exposicao_alergenos'],\n",
    "        fumante_passivo=row['fumante_passivo'] , \n",
    "        infeccoes_respiratorias_frequentes=row['infeccoes_respiratorias_frequentes'],\n",
    "        historico_familiar_asma=row['historico_familiar_asma'],\n",
    "        dispneia=row['dispneia'] , \n",
    "        sibilancia=row['sibilancia'],  \n",
    "        tosse=row['tosse'] ,\n",
    "        obstrucao_vias_respiratorias=row['obstrucao_vias_respiratorias']\n",
    "    )\n",
    "\n",
    "    return 1 if score >= 70 else 0\n",
    "   \n",
    "\n",
    "\n",
    "# Criar DataFrame e aplicar diagnóstico\n",
    "df = pd.DataFrame(asma_data)\n",
    "df[\"tem_asma\"] = df.apply(determinar_asma, axis=1)\n",
    "\n",
    "# Exibir as primeiras linhas\n",
    "print(df.head())\n",
    "\n",
    "# Salvar\n",
    "df.to_csv(\"../dados/dados_asma.csv\", index=False)\n"
   ]
  }
 ],
 "metadata": {
  "kernelspec": {
   "display_name": "Python 3",
   "language": "python",
   "name": "python3"
  },
  "language_info": {
   "codemirror_mode": {
    "name": "ipython",
    "version": 3
   },
   "file_extension": ".py",
   "mimetype": "text/x-python",
   "name": "python",
   "nbconvert_exporter": "python",
   "pygments_lexer": "ipython3",
   "version": "3.13.5"
  }
 },
 "nbformat": 4,
 "nbformat_minor": 5
}
