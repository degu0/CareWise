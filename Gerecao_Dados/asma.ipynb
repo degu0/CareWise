{
 "cells": [
  {
   "cell_type": "code",
   "execution_count": 1,
   "id": "520f9957",
   "metadata": {},
   "outputs": [
    {
     "name": "stdout",
     "output_type": "stream",
     "text": [
      "   idade  exposicao_alergenos  fumante_passivo  \\\n",
      "0     56                    0                0   \n",
      "1     19                    1                0   \n",
      "2     65                    0                0   \n",
      "3     25                    0                0   \n",
      "4     28                    1                1   \n",
      "\n",
      "   infeccoes_respiratorias_frequentes  historico_familiar_asma  dispneia  \\\n",
      "0                                   1                        1         0   \n",
      "1                                   0                        0         1   \n",
      "2                                   0                        1         0   \n",
      "3                                   0                        0         1   \n",
      "4                                   0                        0         0   \n",
      "\n",
      "   sibilancia  tosse  obstrucao_vias_respiratorias  tem_asma  \n",
      "0           1      0                             0         1  \n",
      "1           1      0                             0         0  \n",
      "2           0      1                             1         1  \n",
      "3           0      1                             1         1  \n",
      "4           1      0                             0         0  \n"
     ]
    }
   ],
   "source": [
    "#  //////////////////////////////////// ASMA ////////////////////////////////////////////\n",
    "\n",
    "import numpy as np\n",
    "import pandas as pd\n",
    "\n",
    "np.random.seed(42)  # Reprodutibilidade\n",
    "\n",
    "n = 100\n",
    "\n",
    "asma_data = {\n",
    "    'idade': np.random.randint(5, 70, n),\n",
    "    'exposicao_alergenos': np.random.randint(0, 2, n),  # 0 = não, 1 = sim\n",
    "    'fumante_passivo': np.random.randint(0, 2, n),  # 0 = não, 1 = sim\n",
    "    'infeccoes_respiratorias_frequentes': np.random.randint(0, 2, n),\n",
    "    'historico_familiar_asma': np.random.randint(0, 2, n),\n",
    "    'dispneia': np.random.randint(0, 2, n),  # Falta de ar\n",
    "    'sibilancia': np.random.randint(0, 2, n),  # Chiado no peito\n",
    "    'tosse': np.random.randint(0, 2, n),\n",
    "    'obstrucao_vias_respiratorias': np.random.randint(0, 2, n),\n",
    "}\n",
    "\n",
    "# Lógica para determinar se tem Asma\n",
    "def determinar_asma(row):\n",
    "    score = 0\n",
    "    if row['dispneia'] == 1:\n",
    "        score += 1\n",
    "    if row['sibilancia'] == 1:\n",
    "        score += 1\n",
    "    if row['tosse'] == 1:\n",
    "        score += 1\n",
    "    if row['obstrucao_vias_respiratorias'] == 1:\n",
    "        score += 1\n",
    "    if row['historico_familiar_asma'] == 1:\n",
    "        score += 1\n",
    "    if row['infeccoes_respiratorias_frequentes'] == 1:\n",
    "        score += 1\n",
    "\n",
    "    # Considera como asma se tiver 3 ou mais fatores\n",
    "    if score >= 3:\n",
    "        return 1\n",
    "    return 0\n",
    "\n",
    "\n",
    "# Criar DataFrame e aplicar diagnóstico\n",
    "df = pd.DataFrame(asma_data)\n",
    "df[\"tem_asma\"] = df.apply(determinar_asma, axis=1)\n",
    "\n",
    "# Exibir as primeiras linhas\n",
    "print(df.head())\n",
    "\n",
    "# Salvar\n",
    "df.to_csv(\"../dados/dados_asma.csv\", index=False)\n"
   ]
  }
 ],
 "metadata": {
  "kernelspec": {
   "display_name": "Python 3",
   "language": "python",
   "name": "python3"
  },
  "language_info": {
   "codemirror_mode": {
    "name": "ipython",
    "version": 3
   },
   "file_extension": ".py",
   "mimetype": "text/x-python",
   "name": "python",
   "nbconvert_exporter": "python",
   "pygments_lexer": "ipython3",
   "version": "3.13.5"
  }
 },
 "nbformat": 4,
 "nbformat_minor": 5
}
