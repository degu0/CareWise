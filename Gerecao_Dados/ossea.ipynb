{
 "cells": [
  {
   "cell_type": "code",
   "execution_count": 1,
   "id": "38767329",
   "metadata": {},
   "outputs": [
    {
     "name": "stdout",
     "output_type": "stream",
     "text": [
      "   idade  sexo  atividade_fisica  baixo_peso  deficiencia_calcio  \\\n",
      "0     68     1                 0           0                   0   \n",
      "1     81     0                 0           1                   0   \n",
      "2     58     0                 1           0                   1   \n",
      "3     44     1                 0           0                   0   \n",
      "4     72     0                 0           0                   1   \n",
      "\n",
      "   deficiencia_vitamina_d  historico_familiar_osseo  fumante  alcool  \\\n",
      "0                       1                         0        0       1   \n",
      "1                       0                         1        1       1   \n",
      "2                       1                         1        0       1   \n",
      "3                       0                         0        0       1   \n",
      "4                       0                         1        0       0   \n",
      "\n",
      "   doencas_autoimunes  uso_corticoides  tem_doenca_ossea  \n",
      "0                   1                1                 1  \n",
      "1                   1                0                 1  \n",
      "2                   1                1                 1  \n",
      "3                   0                0                 0  \n",
      "4                   0                1                 1  \n"
     ]
    }
   ],
   "source": [
    "# ////////////////////////////////////////// DOENÇA ÓSSEA ///////////////////////////////////\n",
    "\n",
    "import numpy as np\n",
    "import pandas as pd\n",
    "from calcular_pontucao import calcular_pontuacao_osteoporose\n",
    "\n",
    "np.random.seed(42)\n",
    "\n",
    "n = 500  # número de registros\n",
    "\n",
    "ossea_data = {\n",
    "    'idade': np.random.randint(30, 90, n),\n",
    "    'sexo': np.random.randint(0, 2, n),  # 0 = feminino, 1 = masculino\n",
    "    'atividade_fisica': np.random.randint(0, 2, n),\n",
    "    'baixo_peso': np.random.randint(0, 2, n),\n",
    "    'deficiencia_calcio': np.random.randint(0, 2, n),\n",
    "    'deficiencia_vitamina_d': np.random.randint(0, 2, n),\n",
    "    'historico_familiar_osseo': np.random.randint(0, 2, n),\n",
    "    'fumante': np.random.randint(0, 2, n),\n",
    "    'alcool': np.random.randint(0, 2, n),\n",
    "    'doencas_autoimunes': np.random.randint(0, 2, n),\n",
    "    'uso_corticoides': np.random.randint(0, 2, n),\n",
    "}\n",
    "\n",
    "# Lógica para definir se tem doença óssea\n",
    "def determinar_doenca_ossea(row):\n",
    "    score = calcular_pontuacao_osteoporose(\n",
    "    idade=row['idade'],\n",
    "    sexo=row['sexo'],\n",
    "    atividade_fisica=row['atividade_fisica'],\n",
    "    baixo_peso=row['baixo_peso'],\n",
    "    deficiencia_calcio=row['deficiencia_calcio'],\n",
    "    deficiencia_vitamina_d=row['deficiencia_vitamina_d'],\n",
    "    historico_familiar_osseo=row['historico_familiar_osseo'],\n",
    "    fumante=row['fumante'],\n",
    "    alcool=row['alcool'],\n",
    "    doencas_autoimunes=row['doencas_autoimunes'],\n",
    "    uso_corticoides=row['uso_corticoides'], \n",
    "    )\n",
    "\n",
    "    return 1 if score >= 70 else 0\n",
    "\n",
    "df = pd.DataFrame(ossea_data)\n",
    "df[\"tem_doenca_ossea\"] = df.apply(determinar_doenca_ossea, axis=1)\n",
    "\n",
    "print(df.head())\n",
    "\n",
    "# Salvar dataset\n",
    "df.to_csv(\"../dados/dados_ossea.csv\", index=False)\n"
   ]
  }
 ],
 "metadata": {
  "kernelspec": {
   "display_name": "Python 3",
   "language": "python",
   "name": "python3"
  },
  "language_info": {
   "codemirror_mode": {
    "name": "ipython",
    "version": 3
   },
   "file_extension": ".py",
   "mimetype": "text/x-python",
   "name": "python",
   "nbconvert_exporter": "python",
   "pygments_lexer": "ipython3",
   "version": "3.13.5"
  }
 },
 "nbformat": 4,
 "nbformat_minor": 5
}
