{
 "cells": [
  {
   "cell_type": "code",
   "execution_count": 1,
   "id": "7d8d1ad6",
   "metadata": {},
   "outputs": [
    {
     "name": "stdout",
     "output_type": "stream",
     "text": [
      "   idade    pas   pad   imc  atividade_fisica  alcool  fumante  \\\n",
      "0     24  120.6  86.3  31.3                 0       1        1   \n",
      "1     20  139.5  69.0  20.8                 1       0        1   \n",
      "2     69  114.0  68.8  28.4                 0       1        1   \n",
      "3     41  123.1  87.3  29.2                 0       1        1   \n",
      "4     78  132.7  70.7  28.0                 0       0        1   \n",
      "\n",
      "   historico_familiar_hipertensao  uso_de_medicamentos_hipertensao  \\\n",
      "0                               1                                0   \n",
      "1                               1                                1   \n",
      "2                               0                                0   \n",
      "3                               1                                1   \n",
      "4                               1                                1   \n",
      "\n",
      "   tem_hipertensao  \n",
      "0                0  \n",
      "1                1  \n",
      "2                0  \n",
      "3                1  \n",
      "4                1  \n"
     ]
    }
   ],
   "source": [
    "# //////////////////////////////////////// HIPERTENSÃO //////////////////////////////////////////\n",
    "\n",
    "import numpy as np\n",
    "import pandas as pd\n",
    "from calcular_pontucao import calcular_pontuacao_hipertensao\n",
    "\n",
    "np.random.seed(43)\n",
    "\n",
    "n = 500\n",
    "\n",
    "hipertensao_data = {\n",
    "    'idade': np.random.randint(20, 80, n),\n",
    "    'pas': np.random.normal(125, 15, n).round(1),  # Pressão arterial sistólica\n",
    "    'pad': np.random.normal(80, 10, n).round(1),   # Pressão arterial diastólica\n",
    "    'imc': np.random.normal(28, 4, n).round(1),\n",
    "    'atividade_fisica': np.random.randint(0, 2, n),\n",
    "    'alcool': np.random.randint(0, 2, n),\n",
    "    'fumante': np.random.randint(0, 2, n),\n",
    "    'historico_familiar_hipertensao': np.random.randint(0, 2, n),\n",
    "    'uso_de_medicamentos_hipertensao': np.random.randint(0, 2, n),\n",
    "}\n",
    "\n",
    "# Lógica simples para marcar presença de Hipertensão\n",
    "# Exemplo para hipertensão\n",
    "def determinar_hipertensao(row):\n",
    "    score = calcular_pontuacao_hipertensao(\n",
    "        idade=row['idade'],\n",
    "        pas=row['pas'],\n",
    "        pad=row['pad'],\n",
    "        imc=row['imc'],\n",
    "        atividade_fisica=row['atividade_fisica'],\n",
    "        alcool=row['alcool'],\n",
    "        fumante=row['fumante'],\n",
    "        historico_familiar_hipertensao=row['historico_familiar_hipertensao'],\n",
    "        uso_de_medicamentos_hipertensao=row['uso_de_medicamentos_hipertensao'],   \n",
    "    )\n",
    "\n",
    "    return 1 if score >= 70 else 0\n",
    "\n",
    "\n",
    "df = pd.DataFrame(hipertensao_data)\n",
    "df[\"tem_hipertensao\"] = df.apply(determinar_hipertensao, axis=1)\n",
    "\n",
    "# Visualizar as primeiras linhas\n",
    "print(df.head())\n",
    "\n",
    "# Salvar se quiser\n",
    "df.to_csv(\"../dados/dados_hipertensao.csv\", index=False)\n"
   ]
  }
 ],
 "metadata": {
  "kernelspec": {
   "display_name": "Python 3",
   "language": "python",
   "name": "python3"
  },
  "language_info": {
   "codemirror_mode": {
    "name": "ipython",
    "version": 3
   },
   "file_extension": ".py",
   "mimetype": "text/x-python",
   "name": "python",
   "nbconvert_exporter": "python",
   "pygments_lexer": "ipython3",
   "version": "3.13.5"
  }
 },
 "nbformat": 4,
 "nbformat_minor": 5
}
