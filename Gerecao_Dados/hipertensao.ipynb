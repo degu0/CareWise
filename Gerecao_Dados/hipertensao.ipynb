{
 "cells": [
  {
   "cell_type": "code",
   "execution_count": 4,
   "id": "7d8d1ad6",
   "metadata": {},
   "outputs": [
    {
     "name": "stdout",
     "output_type": "stream",
     "text": [
      "   idade    pas   pad   imc  atividade_fisica  alcool  fumante  \\\n",
      "0     24  120.6  86.3  31.3                 0       1        1   \n",
      "1     20  139.5  69.0  20.8                 1       0        1   \n",
      "2     69  114.0  68.8  28.4                 0       1        1   \n",
      "3     41  123.1  87.3  29.2                 0       1        1   \n",
      "4     78  132.7  70.7  28.0                 0       0        1   \n",
      "\n",
      "   historico_familiar_hipertensao  uso_de_medicamentos_hipertensao  \\\n",
      "0                               1                                0   \n",
      "1                               1                                1   \n",
      "2                               0                                0   \n",
      "3                               1                                1   \n",
      "4                               1                                1   \n",
      "\n",
      "   tem_hipertensao  \n",
      "0                1  \n",
      "1                1  \n",
      "2                0  \n",
      "3                1  \n",
      "4                1  \n"
     ]
    }
   ],
   "source": [
    "# //////////////////////////////////////// HIPERTENSÃO //////////////////////////////////////////\n",
    "\n",
    "import numpy as np\n",
    "import pandas as pd\n",
    "\n",
    "np.random.seed(43)\n",
    "\n",
    "n = 500\n",
    "\n",
    "hipertensao_data = {\n",
    "    'idade': np.random.randint(20, 80, n),\n",
    "    'pas': np.random.normal(125, 15, n).round(1),  # Pressão arterial sistólica\n",
    "    'pad': np.random.normal(80, 10, n).round(1),   # Pressão arterial diastólica\n",
    "    'imc': np.random.normal(28, 4, n).round(1),\n",
    "    'atividade_fisica': np.random.randint(0, 2, n),\n",
    "    'alcool': np.random.randint(0, 2, n),\n",
    "    'fumante': np.random.randint(0, 2, n),\n",
    "    'historico_familiar_hipertensao': np.random.randint(0, 2, n),\n",
    "    'uso_de_medicamentos_hipertensao': np.random.randint(0, 2, n),\n",
    "}\n",
    "\n",
    "# Lógica simples para marcar presença de Hipertensão\n",
    "# Exemplo para hipertensão\n",
    "def determinar_hipertensao(row):\n",
    "    score = 0\n",
    "\n",
    "    # Critérios clínicos comuns\n",
    "    if row[\"pas\"] >= 140:  # pressão sistólica\n",
    "        score += 1\n",
    "    if row[\"pad\"] >= 90:   # pressão diastólica\n",
    "        score += 1\n",
    "    if row[\"imc\"] > 30:\n",
    "        score += 1\n",
    "    if row[\"historico_familiar_hipertensao\"] == 1:\n",
    "        score += 1\n",
    "    if row[\"fumante\"] == 1:\n",
    "        score += 1\n",
    "    if row[\"uso_de_medicamentos_hipertensao\"] == 1:\n",
    "        score += 1\n",
    "\n",
    "    # Diagnóstico se 3 ou mais fatores estiverem presentes\n",
    "    if score >= 3:\n",
    "        return 1\n",
    "    return 0\n",
    "\n",
    "\n",
    "df = pd.DataFrame(hipertensao_data)\n",
    "df[\"tem_hipertensao\"] = df.apply(determinar_hipertensao, axis=1)\n",
    "\n",
    "# Visualizar as primeiras linhas\n",
    "print(df.head())\n",
    "\n",
    "# Salvar se quiser\n",
    "df.to_csv(\"../dados/dados_hipertensao.csv\", index=False)\n"
   ]
  }
 ],
 "metadata": {
  "kernelspec": {
   "display_name": "Python 3",
   "language": "python",
   "name": "python3"
  },
  "language_info": {
   "codemirror_mode": {
    "name": "ipython",
    "version": 3
   },
   "file_extension": ".py",
   "mimetype": "text/x-python",
   "name": "python",
   "nbconvert_exporter": "python",
   "pygments_lexer": "ipython3",
   "version": "3.13.5"
  }
 },
 "nbformat": 4,
 "nbformat_minor": 5
}
