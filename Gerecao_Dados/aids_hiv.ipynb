{
 "cells": [
  {
   "cell_type": "code",
   "execution_count": 5,
   "id": "70f471e5",
   "metadata": {},
   "outputs": [
    {
     "name": "stdout",
     "output_type": "stream",
     "text": [
      "   idade  parceiros_sexuais  uso_preservativo  relacao_sexual_sem_protecao  \\\n",
      "0     56                  6                 0                            1   \n",
      "1     69                  4                 1                            0   \n",
      "2     46                  5                 1                            0   \n",
      "3     32                  6                 1                            0   \n",
      "4     60                  2                 1                            1   \n",
      "\n",
      "   drogas_injetaveis  transfusao_sanguinea  relacao_com_pessoa_hiv  \\\n",
      "0                  1                     0                       1   \n",
      "1                  1                     0                       0   \n",
      "2                  0                     0                       0   \n",
      "3                  1                     0                       1   \n",
      "4                  1                     0                       0   \n",
      "\n",
      "   sintomas_iniciais  quantidade_celulas_por_milimetro_cubico  tem_aids  \n",
      "0                  0                                      635         1  \n",
      "1                  0                                      374         0  \n",
      "2                  1                                      632         0  \n",
      "3                  0                                      507         0  \n",
      "4                  1                                      786         0  \n"
     ]
    }
   ],
   "source": [
    "\n",
    "# ////////////////////////////////////////// HIV / AIDS ///////////////////////////////////\n",
    "\n",
    "import numpy as np\n",
    "import pandas as pd\n",
    "from calcular_pontucao import calcular_pontuacao_hiv\n",
    "\n",
    "np.random.seed(42)  # Para reprodutibilidade\n",
    "\n",
    "n = 500  # número de registros\n",
    "\n",
    "aids_data = {\n",
    "    'idade': np.random.randint(18, 70, n),\n",
    "    'parceiros_sexuais': np.random.randint(0, 10, n),  # número de parceiros sexuais no último ano\n",
    "    'uso_preservativo': np.random.randint(0, 2, n),  # 0 = não usa, 1 = usa\n",
    "    'relacao_sexual_sem_protecao': np.random.randint(0, 2, n),  # 0 = não, 1 = sim\n",
    "    'drogas_injetaveis': np.random.randint(0, 2, n),  # 0 = não, 1 = sim\n",
    "    'transfusao_sanguinea': np.random.randint(0, 2, n),  # 0 = não, 1 = sim\n",
    "    'relacao_com_pessoa_hiv': np.random.randint(0, 2, n),  # contato íntimo com pessoa HIV+\n",
    "    'sintomas_iniciais': np.random.randint(0, 2, n),  # febre, perda de peso, linfonodos, etc.\n",
    "    'quantidade_celulas_por_milimetro_cubico': np.random.randint(0, 800, n)\n",
    "}\n",
    "\n",
    "# Lógica simples para marcar presença de AIDS\n",
    "def determinar_aids(row):\n",
    "    score = calcular_pontuacao_hiv(\n",
    "        parceiros_sexuais=row['parceiros_sexuais'],\n",
    "        uso_preservativo=row['uso_preservativo'],\n",
    "        relacao_sexual_sem_protecao=row['relacao_sexual_sem_protecao'],\n",
    "        drogas_injetaveis=row['drogas_injetaveis'],\n",
    "        transfusao_sanguinea=row['transfusao_sanguinea'],\n",
    "        relacao_com_pessoa_hiv=row['relacao_com_pessoa_hiv'],\n",
    "        sintomas_iniciais=row['sintomas_iniciais'],\n",
    "        quantidade_celulas_por_milimetro_cubico=row['quantidade_celulas_por_milimetro_cubico']\n",
    "    )\n",
    "    \n",
    "    # Limiares mais realistas baseados na pontuação\n",
    "    if score >= 80:\n",
    "        return 1  # AIDS confirmada (imunodeficiência grave)\n",
    "    else:\n",
    "        return 0  # Baixo risco/Negativo\n",
    "\n",
    "# Criar DataFrame e aplicar função\n",
    "df = pd.DataFrame(aids_data)\n",
    "df[\"tem_aids\"] = df.apply(determinar_aids, axis=1)\n",
    "\n",
    "# Visualizar os primeiros dados\n",
    "print(df.head())\n",
    "\n",
    "# Salvar em CSV\n",
    "df.to_csv(\"../dados/dados_aids.csv\", index=False)\n"
   ]
  }
 ],
 "metadata": {
  "kernelspec": {
   "display_name": "Python 3",
   "language": "python",
   "name": "python3"
  },
  "language_info": {
   "codemirror_mode": {
    "name": "ipython",
    "version": 3
   },
   "file_extension": ".py",
   "mimetype": "text/x-python",
   "name": "python",
   "nbconvert_exporter": "python",
   "pygments_lexer": "ipython3",
   "version": "3.13.5"
  }
 },
 "nbformat": 4,
 "nbformat_minor": 5
}
