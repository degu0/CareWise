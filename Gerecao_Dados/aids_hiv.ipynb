{
 "cells": [
  {
   "cell_type": "code",
   "execution_count": 3,
   "id": "70f471e5",
   "metadata": {},
   "outputs": [
    {
     "name": "stdout",
     "output_type": "stream",
     "text": [
      "   idade  parceiros_sexuais  uso_preservativo  relacao_sexual_sem_protecao  \\\n",
      "0     56                  6                 0                            1   \n",
      "1     69                  4                 1                            0   \n",
      "2     46                  5                 1                            0   \n",
      "3     32                  6                 1                            0   \n",
      "4     60                  2                 1                            1   \n",
      "\n",
      "   drogas_injetaveis  transfusao_sanguinea  relacao_com_pessoa_hiv  \\\n",
      "0                  1                     0                       1   \n",
      "1                  1                     0                       0   \n",
      "2                  0                     0                       0   \n",
      "3                  1                     0                       1   \n",
      "4                  1                     0                       0   \n",
      "\n",
      "   sintomas_iniciais  quantidade_celulas_por_milimetro_cubico  tem_aids  \n",
      "0                  0                                      635         1  \n",
      "1                  0                                      374         0  \n",
      "2                  1                                      632         0  \n",
      "3                  0                                      507         0  \n",
      "4                  1                                      786         1  \n"
     ]
    }
   ],
   "source": [
    "\n",
    "# ////////////////////////////////////////// HIV / AIDS ///////////////////////////////////\n",
    "\n",
    "import numpy as np\n",
    "import pandas as pd\n",
    "\n",
    "np.random.seed(42)  # Para reprodutibilidade\n",
    "\n",
    "n = 500  # número de registros\n",
    "\n",
    "aids_data = {\n",
    "    'idade': np.random.randint(18, 70, n),\n",
    "    'parceiros_sexuais': np.random.randint(0, 10, n),  # número de parceiros sexuais no último ano\n",
    "    'uso_preservativo': np.random.randint(0, 2, n),  # 0 = não usa, 1 = usa\n",
    "    'relacao_sexual_sem_protecao': np.random.randint(0, 2, n),  # 0 = não, 1 = sim\n",
    "    'drogas_injetaveis': np.random.randint(0, 2, n),  # 0 = não, 1 = sim\n",
    "    'transfusao_sanguinea': np.random.randint(0, 2, n),  # 0 = não, 1 = sim\n",
    "    'relacao_com_pessoa_hiv': np.random.randint(0, 2, n),  # contato íntimo com pessoa HIV+\n",
    "    'sintomas_iniciais': np.random.randint(0, 2, n),  # febre, perda de peso, linfonodos, etc.\n",
    "    'quantidade_celulas_por_milimetro_cubico': np.random.randint(0, 800, n)\n",
    "}\n",
    "\n",
    "# Lógica simples para marcar presença de AIDS\n",
    "def determinar_aids(row):\n",
    "    score = 0\n",
    "    if row['relacao_sexual_sem_protecao'] == 1:\n",
    "        score += 1\n",
    "    if row['drogas_injetaveis'] == 1:\n",
    "        score += 1\n",
    "    if row['transfusao_sanguinea'] == 1:\n",
    "        score += 1\n",
    "    if row['relacao_com_pessoa_hiv'] == 1:\n",
    "        score += 1\n",
    "    if row['sintomas_iniciais'] == 1:\n",
    "        score += 1\n",
    "    if row['parceiros_sexuais'] >= 3 and row['uso_preservativo'] == 0:\n",
    "        score += 1\n",
    "    if row['quantidade_celulas_por_milimetro_cubico'] < 200:\n",
    "        score += 1\n",
    "\n",
    "    # Considera AIDS se tiver 3 ou mais fatores de risco\n",
    "    return 1 if score >= 3 else 0\n",
    "\n",
    "# Criar DataFrame e aplicar função\n",
    "df = pd.DataFrame(aids_data)\n",
    "df[\"tem_aids\"] = df.apply(determinar_aids, axis=1)\n",
    "\n",
    "# Visualizar os primeiros dados\n",
    "print(df.head())\n",
    "\n",
    "# Salvar em CSV\n",
    "df.to_csv(\"../dados/dados_aids.csv\", index=False)\n"
   ]
  }
 ],
 "metadata": {
  "kernelspec": {
   "display_name": "Python 3",
   "language": "python",
   "name": "python3"
  },
  "language_info": {
   "codemirror_mode": {
    "name": "ipython",
    "version": 3
   },
   "file_extension": ".py",
   "mimetype": "text/x-python",
   "name": "python",
   "nbconvert_exporter": "python",
   "pygments_lexer": "ipython3",
   "version": "3.13.5"
  }
 },
 "nbformat": 4,
 "nbformat_minor": 5
}
