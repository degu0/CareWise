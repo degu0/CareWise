{
 "cells": [
  {
   "cell_type": "code",
   "execution_count": 4,
   "id": "69d76a16",
   "metadata": {},
   "outputs": [
    {
     "name": "stdout",
     "output_type": "stream",
     "text": [
      "===== Diagnóstico =====\n",
      "Probabilidade de Diabetes: 44.00%\n",
      "Probabilidade de Hipertensão: 19.00%\n"
     ]
    },
    {
     "name": "stderr",
     "output_type": "stream",
     "text": [
      "c:\\Users\\deyvi\\AppData\\Local\\Programs\\Python\\Python313\\Lib\\site-packages\\sklearn\\utils\\validation.py:2749: UserWarning: X does not have valid feature names, but RandomForestClassifier was fitted with feature names\n",
      "  warnings.warn(\n",
      "c:\\Users\\deyvi\\AppData\\Local\\Programs\\Python\\Python313\\Lib\\site-packages\\sklearn\\utils\\validation.py:2749: UserWarning: X does not have valid feature names, but RandomForestClassifier was fitted with feature names\n",
      "  warnings.warn(\n"
     ]
    }
   ],
   "source": [
    "import joblib\n",
    "\n",
    "# Dados simulados de um novo paciente\n",
    "paciente = {\n",
    "    \"idade\": 65,\n",
    "    \"glicemia_em_jejum\": 140,\n",
    "    \"hbA1c\": 8.5,\n",
    "    \"ttgo\": 150,\n",
    "    \"imc\": 30.5,\n",
    "    \"atividade_fisica\": 1,\n",
    "    \"alcool\": 0,\n",
    "    \"historico_familiar_diabetes\": 1,\n",
    "    \"uso_de_medicamentos\": 0,\n",
    "    \"sintomas_classicos_diabetes\": 1,\n",
    "\n",
    "    \"pas\": 160,\n",
    "    \"pad\": 95,\n",
    "    \"tabagismo\": 0,\n",
    "    \"historico_familiar_hipertensao\": 1,\n",
    "}\n",
    "\n",
    "# Carregar modelos\n",
    "modelo_diabetes = joblib.load(\"modelos/modelo_diabetes.pkl\")\n",
    "modelo_hipertensao = joblib.load(\"modelos/modelo_hipertensao.pkl\")\n",
    "\n",
    "# Organizar entrada para diabetes\n",
    "entrada_diabetes = [[\n",
    "    paciente[\"idade\"],\n",
    "    paciente[\"glicemia_em_jejum\"],\n",
    "    paciente[\"hbA1c\"],\n",
    "    paciente[\"ttgo\"],\n",
    "    paciente[\"imc\"],\n",
    "    paciente[\"atividade_fisica\"],\n",
    "    paciente[\"alcool\"],\n",
    "    paciente[\"historico_familiar_diabetes\"],\n",
    "    paciente[\"uso_de_medicamentos\"],\n",
    "    paciente[\"sintomas_classicos_diabetes\"],\n",
    "]]\n",
    "\n",
    "# Entrada para hipertensão\n",
    "entrada_hipertensao = [[\n",
    "    paciente[\"idade\"],\n",
    "    paciente[\"pas\"],\n",
    "    paciente[\"pad\"],\n",
    "    paciente[\"imc\"],\n",
    "    paciente[\"atividade_fisica\"],\n",
    "    paciente[\"alcool\"],\n",
    "    paciente[\"tabagismo\"],\n",
    "    paciente[\"historico_familiar_hipertensao\"],\n",
    "    paciente[\"uso_de_medicamentos\"],\n",
    "]]\n",
    "\n",
    "# Fazer previsões\n",
    "proba_diabetes = modelo_diabetes.predict_proba(entrada_diabetes)[0][1]\n",
    "proba_hipertensao = modelo_hipertensao.predict_proba(entrada_hipertensao)[0][1]\n",
    "\n",
    "# Exibir resultados\n",
    "print(\"===== Diagnóstico =====\")\n",
    "print(f\"Probabilidade de Diabetes: {proba_diabetes * 100:.2f}%\")\n",
    "print(f\"Probabilidade de Hipertensão: {proba_hipertensao * 100:.2f}%\")\n"
   ]
  }
 ],
 "metadata": {
  "kernelspec": {
   "display_name": "Python 3",
   "language": "python",
   "name": "python3"
  },
  "language_info": {
   "codemirror_mode": {
    "name": "ipython",
    "version": 3
   },
   "file_extension": ".py",
   "mimetype": "text/x-python",
   "name": "python",
   "nbconvert_exporter": "python",
   "pygments_lexer": "ipython3",
   "version": "3.13.5"
  }
 },
 "nbformat": 4,
 "nbformat_minor": 5
}
