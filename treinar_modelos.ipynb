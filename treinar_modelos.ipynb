{
 "cells": [
  {
   "cell_type": "code",
   "execution_count": 14,
   "id": "a25a1239",
   "metadata": {},
   "outputs": [
    {
     "name": "stdout",
     "output_type": "stream",
     "text": [
      "Modelo 'modelo_diabetes' treinado com sucesso.\n",
      "Modelo 'modelo_hipertensao' treinado com sucesso.\n"
     ]
    }
   ],
   "source": [
    "import pandas as pd\n",
    "from sklearn.ensemble import RandomForestClassifier\n",
    "from sklearn.model_selection import train_test_split\n",
    "import joblib\n",
    "import os\n",
    "\n",
    "def binarizar_colunas(df):\n",
    "    # Converte 'sim' para 1, 'nao' para 0\n",
    "    return df.replace({'sim': 1, 'nao': 0})\n",
    "\n",
    "def treinar_modelo(path_csv, coluna_alvo, nome_modelo):\n",
    "    df = pd.read_csv(path_csv)\n",
    "    df = binarizar_colunas(df)\n",
    "\n",
    "    X = df.drop(columns=[coluna_alvo])\n",
    "    y = df[coluna_alvo]\n",
    "\n",
    "    X_train, X_test, y_train, y_test = train_test_split(X, y, test_size=0.2, random_state=42)\n",
    "\n",
    "    clf = RandomForestClassifier()\n",
    "    clf.fit(X_train, y_train)\n",
    "\n",
    "    os.makedirs(\"modelos\", exist_ok=True)\n",
    "    joblib.dump(clf, f\"modelos/{nome_modelo}.pkl\")\n",
    "    print(f\"Modelo '{nome_modelo}' treinado com sucesso.\")\n",
    "\n",
    "# Treinar para diabetes\n",
    "treinar_modelo(\"dados/diabetes.csv\", \"tem_diabetes\", \"modelo_diabetes\")\n",
    "\n",
    "# Treinar para hipertensão\n",
    "treinar_modelo(\"dados/hipertensao.csv\", \"tem_hipertensao\", \"modelo_hipertensao\")\n"
   ]
  },
  {
   "cell_type": "code",
   "execution_count": null,
   "id": "898d399f",
   "metadata": {},
   "outputs": [],
   "source": []
  }
 ],
 "metadata": {
  "kernelspec": {
   "display_name": "Python 3",
   "language": "python",
   "name": "python3"
  },
  "language_info": {
   "codemirror_mode": {
    "name": "ipython",
    "version": 3
   },
   "file_extension": ".py",
   "mimetype": "text/x-python",
   "name": "python",
   "nbconvert_exporter": "python",
   "pygments_lexer": "ipython3",
   "version": "3.13.5"
  }
 },
 "nbformat": 4,
 "nbformat_minor": 5
}
